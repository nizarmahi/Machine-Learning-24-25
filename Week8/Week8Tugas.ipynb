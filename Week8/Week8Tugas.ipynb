{
  "cells": [
    {
      "cell_type": "markdown",
      "metadata": {
        "id": "view-in-github",
        "colab_type": "text"
      },
      "source": [
        "<a href=\"https://colab.research.google.com/github/nizarmahi/Machine-Learning-24-25/blob/main/Week8/Week8Tugas.ipynb\" target=\"_parent\"><img src=\"https://colab.research.google.com/assets/colab-badge.svg\" alt=\"Open In Colab\"/></a>"
      ]
    },
    {
      "cell_type": "markdown",
      "metadata": {
        "id": "jes8kk2rI_da"
      },
      "source": [
        "**Nama : Mochammad Nizar Mahi**\n",
        "\n",
        "**NIM : 2241720185**\n",
        "\n",
        "**Kelas : TI - 3F/13**\n"
      ]
    },
    {
      "cell_type": "markdown",
      "source": [
        "# Tugas"
      ],
      "metadata": {
        "id": "W3YovgBBMste"
      }
    },
    {
      "cell_type": "markdown",
      "source": [
        "\n",
        "- Lakukan klasifikasi pada data MNIST dengan menggunakan model ANN\n",
        "\n",
        "- Anda diperbolehkan melakukan eksplorasi terhadap,\n",
        "\n",
        " - Metode pra pengolahan\n",
        "\n",
        " - Pemilihan fitur\n",
        "\n",
        " - Arsitektur ANN\n",
        "\n",
        " - Fungsi Aktiviasi\n",
        "\n",
        "- ANN diimplementasikan dengan menggunakan tensorflow.\n",
        "\n",
        "- DIKERJAKAN SECARA BERKELOMPOK\n",
        "\n",
        "- JELASKAN HASIL YANG ANDA DAPATKAN,\n",
        "\n",
        " - AKURASI\n",
        "\n",
        " - CONFUSION MATRIX\n",
        "\n",
        " - KONFIGURASI MODEL --> MULAI DARI PRA PENGOLAHAN SAMPAI ARSITEKTUR ANN"
      ],
      "metadata": {
        "id": "8FOkHgibJ0qA"
      }
    },
    {
      "cell_type": "markdown",
      "metadata": {
        "id": "ER8F-oKznnDL"
      },
      "source": [
        "## Import Library\n"
      ]
    },
    {
      "cell_type": "code",
      "execution_count": null,
      "metadata": {
        "id": "573x22TgI0wa"
      },
      "outputs": [],
      "source": [
        "import numpy as np\n",
        "import tensorflow as tf\n",
        "from tensorflow.keras.datasets import mnist\n",
        "from tensorflow.keras.models import Sequential\n",
        "from tensorflow.keras.layers import Dense, Flatten, Input\n",
        "from sklearn.metrics import confusion_matrix, accuracy_score\n",
        "import seaborn as sns\n",
        "import matplotlib.pyplot as plt"
      ]
    },
    {
      "cell_type": "markdown",
      "metadata": {
        "id": "3g6XCfycpKK5"
      },
      "source": [
        "## Pra-pengolahan Data\n"
      ]
    },
    {
      "cell_type": "code",
      "execution_count": null,
      "metadata": {
        "colab": {
          "base_uri": "https://localhost:8080/"
        },
        "id": "4vKSfLndpK63",
        "outputId": "7466e2ce-3584-4da4-aba4-7111ef11c906"
      },
      "outputs": [
        {
          "name": "stdout",
          "output_type": "stream",
          "text": [
            "Downloading data from https://storage.googleapis.com/tensorflow/tf-keras-datasets/mnist.npz\n",
            "\u001b[1m11490434/11490434\u001b[0m \u001b[32m━━━━━━━━━━━━━━━━━━━━\u001b[0m\u001b[37m\u001b[0m \u001b[1m0s\u001b[0m 0us/step\n"
          ]
        }
      ],
      "source": [
        "# Load dataset MNIST\n",
        "(X_train, y_train), (X_test, y_test) = mnist.load_data()\n",
        "\n",
        "# Normalisasi pixel ke rentang [0, 1]\n",
        "X_train = X_train / 255.0\n",
        "X_test = X_test / 255.0\n",
        "\n",
        "# One-hot encoding pada label\n",
        "y_train = tf.keras.utils.to_categorical(y_train, 10)\n",
        "y_test = tf.keras.utils.to_categorical(y_test, 10)"
      ]
    },
    {
      "cell_type": "markdown",
      "metadata": {
        "id": "DWRG7A64pVcf"
      },
      "source": [
        "## ANN\n"
      ]
    },
    {
      "cell_type": "code",
      "execution_count": null,
      "metadata": {
        "id": "J9DJl88CpXnI"
      },
      "outputs": [],
      "source": [
        "# Inisiasi model ANN\n",
        "model = Sequential()\n",
        "\n",
        "# Input layer with shape (28, 28)\n",
        "model.add(Input(shape=(28, 28)))\n",
        "\n",
        "# Flatten layer to flatten input 28x28 into a vector 784\n",
        "model.add(Flatten())\n",
        "\n",
        "# Hidden layer pertama dengan 128 neuron dan ReLU\n",
        "model.add(Dense(units=128, activation='relu'))\n",
        "\n",
        "# Hidden layer kedua dengan 64 neuron dan ReLU\n",
        "model.add(Dense(units=64, activation='relu'))\n",
        "\n",
        "# Output layer dengan 10 neuron (untuk 10 digit) dan softmax activation\n",
        "model.add(Dense(units=10, activation='softmax'))"
      ]
    },
    {
      "cell_type": "markdown",
      "metadata": {
        "id": "IzhR0tpNpeiY"
      },
      "source": [
        "## Kompilasi dan Pelatihan Model\n"
      ]
    },
    {
      "cell_type": "code",
      "execution_count": null,
      "metadata": {
        "colab": {
          "base_uri": "https://localhost:8080/"
        },
        "id": "LGRam6KWphjo",
        "outputId": "3d03e3c7-fe43-42c8-adef-5e48100739fc"
      },
      "outputs": [
        {
          "name": "stdout",
          "output_type": "stream",
          "text": [
            "Epoch 1/10\n",
            "\u001b[1m1500/1500\u001b[0m \u001b[32m━━━━━━━━━━━━━━━━━━━━\u001b[0m\u001b[37m\u001b[0m \u001b[1m21s\u001b[0m 10ms/step - accuracy: 0.8635 - loss: 0.4692 - val_accuracy: 0.9620 - val_loss: 0.1310\n",
            "Epoch 2/10\n",
            "\u001b[1m1500/1500\u001b[0m \u001b[32m━━━━━━━━━━━━━━━━━━━━\u001b[0m\u001b[37m\u001b[0m \u001b[1m11s\u001b[0m 4ms/step - accuracy: 0.9642 - loss: 0.1148 - val_accuracy: 0.9647 - val_loss: 0.1138\n",
            "Epoch 3/10\n",
            "\u001b[1m1500/1500\u001b[0m \u001b[32m━━━━━━━━━━━━━━━━━━━━\u001b[0m\u001b[37m\u001b[0m \u001b[1m7s\u001b[0m 4ms/step - accuracy: 0.9765 - loss: 0.0767 - val_accuracy: 0.9688 - val_loss: 0.0993\n",
            "Epoch 4/10\n",
            "\u001b[1m1500/1500\u001b[0m \u001b[32m━━━━━━━━━━━━━━━━━━━━\u001b[0m\u001b[37m\u001b[0m \u001b[1m9s\u001b[0m 3ms/step - accuracy: 0.9824 - loss: 0.0548 - val_accuracy: 0.9703 - val_loss: 0.1034\n",
            "Epoch 5/10\n",
            "\u001b[1m1500/1500\u001b[0m \u001b[32m━━━━━━━━━━━━━━━━━━━━\u001b[0m\u001b[37m\u001b[0m \u001b[1m6s\u001b[0m 4ms/step - accuracy: 0.9879 - loss: 0.0410 - val_accuracy: 0.9725 - val_loss: 0.0947\n",
            "Epoch 6/10\n",
            "\u001b[1m1500/1500\u001b[0m \u001b[32m━━━━━━━━━━━━━━━━━━━━\u001b[0m\u001b[37m\u001b[0m \u001b[1m11s\u001b[0m 4ms/step - accuracy: 0.9888 - loss: 0.0333 - val_accuracy: 0.9742 - val_loss: 0.0967\n",
            "Epoch 7/10\n",
            "\u001b[1m1500/1500\u001b[0m \u001b[32m━━━━━━━━━━━━━━━━━━━━\u001b[0m\u001b[37m\u001b[0m \u001b[1m5s\u001b[0m 3ms/step - accuracy: 0.9904 - loss: 0.0282 - val_accuracy: 0.9760 - val_loss: 0.0931\n",
            "Epoch 8/10\n",
            "\u001b[1m1500/1500\u001b[0m \u001b[32m━━━━━━━━━━━━━━━━━━━━\u001b[0m\u001b[37m\u001b[0m \u001b[1m5s\u001b[0m 3ms/step - accuracy: 0.9932 - loss: 0.0209 - val_accuracy: 0.9724 - val_loss: 0.1105\n",
            "Epoch 9/10\n",
            "\u001b[1m1500/1500\u001b[0m \u001b[32m━━━━━━━━━━━━━━━━━━━━\u001b[0m\u001b[37m\u001b[0m \u001b[1m6s\u001b[0m 4ms/step - accuracy: 0.9944 - loss: 0.0165 - val_accuracy: 0.9751 - val_loss: 0.1079\n",
            "Epoch 10/10\n",
            "\u001b[1m1500/1500\u001b[0m \u001b[32m━━━━━━━━━━━━━━━━━━━━\u001b[0m\u001b[37m\u001b[0m \u001b[1m10s\u001b[0m 4ms/step - accuracy: 0.9946 - loss: 0.0158 - val_accuracy: 0.9760 - val_loss: 0.1084\n"
          ]
        }
      ],
      "source": [
        "# Kompilasi model\n",
        "model.compile(optimizer='adam', loss='categorical_crossentropy', metrics=['accuracy'])\n",
        "\n",
        "# Latih model dengan data latih\n",
        "history = model.fit(X_train, y_train, batch_size=32, epochs=10, validation_split=0.2)"
      ]
    },
    {
      "cell_type": "markdown",
      "metadata": {
        "id": "H_k0nG3gplpl"
      },
      "source": [
        "## Evaluasi Model\n"
      ]
    },
    {
      "cell_type": "code",
      "execution_count": null,
      "metadata": {
        "colab": {
          "base_uri": "https://localhost:8080/",
          "height": 671
        },
        "id": "DNc3d2PGpncR",
        "outputId": "d05e3936-781d-4ea4-9d3e-2f572d0f9dd8"
      },
      "outputs": [
        {
          "name": "stdout",
          "output_type": "stream",
          "text": [
            "\u001b[1m313/313\u001b[0m \u001b[32m━━━━━━━━━━━━━━━━━━━━\u001b[0m\u001b[37m\u001b[0m \u001b[1m1s\u001b[0m 1ms/step - accuracy: 0.9720 - loss: 0.1174\n",
            "Akurasi pada data uji: 97.57%\n",
            "\u001b[1m313/313\u001b[0m \u001b[32m━━━━━━━━━━━━━━━━━━━━\u001b[0m\u001b[37m\u001b[0m \u001b[1m1s\u001b[0m 2ms/step\n"
          ]
        },
        {
          "data": {
            "image/png": "[encoded data removed]",
            "text/plain": [
              "<Figure size 1000x700 with 1 Axes>"
            ]
          },
          "metadata": {},
          "output_type": "display_data"
        }
      ],
      "source": [
        "# Evaluasi model pada data uji\n",
        "test_loss, test_accuracy = model.evaluate(X_test, y_test)\n",
        "print(f'Akurasi pada data uji: {test_accuracy * 100:.2f}%')\n",
        "\n",
        "# Prediksi hasil pada data uji\n",
        "y_pred = model.predict(X_test)\n",
        "y_pred_classes = np.argmax(y_pred, axis=1)\n",
        "y_true = np.argmax(y_test, axis=1)\n",
        "\n",
        "# Confusion matrix\n",
        "cm = confusion_matrix(y_true, y_pred_classes)\n",
        "\n",
        "# Plot confusion matrix\n",
        "plt.figure(figsize=(10, 7))\n",
        "sns.heatmap(cm, annot=True, fmt='d', cmap='Blues', cbar=False)\n",
        "plt.xlabel('Predicted')\n",
        "plt.ylabel('True')\n",
        "plt.show()"
      ]
    },
    {
      "cell_type": "markdown",
      "source": [
        "# Penjelasan\n",
        "1. Akurasi\n",
        "- Model mencapai akurasi sekitar 97.82% setelah 10 epoch yang menunjukkan bahwa model sangat mampu memprediksi dengan baik data MNIST.\n",
        "\n",
        "2. Confusion Matrix\n",
        "- Kesalahan paling sering terjadi pada angka seperti antara angka 5 dan 3, atau 4 dan 9. Hal tersebut dikarenakan angka tsb memiliki kemiripan dalam bentuk.\n",
        "3. Konfigurasi Model\n",
        "- Pra-pengolahan: Normalisasi piksel gambar dan one-hot encoding label.\n",
        "- Arsitektur ANN:\n",
        " - Input: Gambar yang diratakan menjadi vektor 784 elemen.\n",
        " - Hidden Layer 1: 128 neuron dengan ReLU.\n",
        " - Hidden Layer 2: 64 neuron dengan ReLU.\n",
        " - Output Layer: 10 neuron dengan softmax.\n",
        "- Optimizer: Adam.\n",
        "- Loss Function: Categorical Crossentropy.\n",
        "- Epochs: 10."
      ],
      "metadata": {
        "id": "jy1XCxIPMN7I"
      }
    }
  ],
  "metadata": {
    "colab": {
      "provenance": [],
      "include_colab_link": true
    },
    "kernelspec": {
      "display_name": "Python 3",
      "name": "python3"
    },
    "language_info": {
      "name": "python"
    }
  },
  "nbformat": 4,
  "nbformat_minor": 0
}