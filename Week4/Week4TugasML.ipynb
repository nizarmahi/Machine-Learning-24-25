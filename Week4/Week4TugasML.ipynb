{
  "nbformat": 4,
  "nbformat_minor": 0,
  "metadata": {
    "colab": {
      "provenance": [],
      "mount_file_id": "1tWLUnIv6Dqn0hHJLStZmTJI29r6rNAFz",
      "authorship_tag": "ABX9TyMB8WYFXijU6wVqnc/Fii9/",
      "include_colab_link": true
    },
    "kernelspec": {
      "name": "python3",
      "display_name": "Python 3"
    },
    "language_info": {
      "name": "python"
    }
  },
  "cells": [
    {
      "cell_type": "markdown",
      "metadata": {
        "id": "view-in-github",
        "colab_type": "text"
      },
      "source": [
        "<a href=\"https://colab.research.google.com/github/nizarmahi/Machine-Learning-24-25/blob/main/Week4/Week4TugasML.ipynb\" target=\"_parent\"><img src=\"https://colab.research.google.com/assets/colab-badge.svg\" alt=\"Open In Colab\"/></a>"
      ]
    },
    {
      "cell_type": "markdown",
      "source": [
        "**Nama** : Mochammad Nizar Mahi\n",
        "\n",
        "**NIM** : 2241720185\n",
        "\n",
        "**Kelas** : TI-3F / 13\n",
        "\n",
        "---\n",
        "\n",
        "Machine Learning | Tugas Praktikum Jobsheet 4 : Klasifikasi\n",
        "\n",
        "---"
      ],
      "metadata": {
        "id": "z-zFYd5TcysC"
      }
    },
    {
      "cell_type": "markdown",
      "source": [
        "# Tugas Praktikum"
      ],
      "metadata": {
        "id": "g7zxicJXcRJd"
      }
    },
    {
      "cell_type": "markdown",
      "source": [
        "Import Library"
      ],
      "metadata": {
        "id": "vDEIrh2xhlTR"
      }
    },
    {
      "cell_type": "code",
      "execution_count": 13,
      "metadata": {
        "id": "JzgclEDKFWk6"
      },
      "outputs": [],
      "source": [
        "# Import Required Libraries\n",
        "import numpy as np\n",
        "import cv2\n",
        "import os\n",
        "from sklearn import svm\n",
        "from sklearn.model_selection import train_test_split\n",
        "from sklearn.metrics import classification_report, confusion_matrix, accuracy_score"
      ]
    },
    {
      "cell_type": "markdown",
      "source": [
        "Load Dataset"
      ],
      "metadata": {
        "id": "RbdJHeeOhqCy"
      }
    },
    {
      "cell_type": "code",
      "source": [
        "train_dir = \"/content/drive/MyDrive/Machine Learning/images/training/\"\n",
        "test_dir = \"/content/drive/MyDrive/Machine Learning/images/test/\"\n",
        "\n",
        "def load_dataset(img_dir):\n",
        "    p = Path(img_dir)\n",
        "    dirs = p.glob('*')\n",
        "\n",
        "    img_list = []\n",
        "\n",
        "    for dir in dirs:\n",
        "        label = str(dir).split('/')[-1]\n",
        "        for file in dir.glob('*.jpg'):\n",
        "            img = mpimg.imread(file)\n",
        "\n",
        "            if not img is None:\n",
        "                img_list.append((img, label))\n",
        "\n",
        "    return img_list"
      ],
      "metadata": {
        "id": "UJuNd5RMhvIm"
      },
      "execution_count": 2,
      "outputs": []
    },
    {
      "cell_type": "markdown",
      "source": [
        "Standarisasi dan Encoding"
      ],
      "metadata": {
        "id": "xFQIkEBRobcU"
      }
    },
    {
      "cell_type": "code",
      "source": [
        "def standarized_input(image):\n",
        "    # Resize to w: 1100, h: 600 using OpenCV\n",
        "    std_img = cv2.resize(image, (1100, 600))\n",
        "    return std_img\n",
        "\n",
        "def label_encoder(label):\n",
        "    # day as 1; night as 0\n",
        "    return 1 if label == 'day' else 0"
      ],
      "metadata": {
        "id": "ibaPYexLoa6N"
      },
      "execution_count": 3,
      "outputs": []
    },
    {
      "cell_type": "markdown",
      "source": [
        "Preprocessing Data"
      ],
      "metadata": {
        "id": "8MTXFDCcopP2"
      }
    },
    {
      "cell_type": "code",
      "source": [
        "def preprocess(img_list):\n",
        "    std_img_list = []\n",
        "\n",
        "    for item in img_list:\n",
        "        image = item[0]\n",
        "        label = item[1]\n",
        "\n",
        "        # Standarize the image\n",
        "        std_img = standarized_input(image)\n",
        "\n",
        "        # Encode the label\n",
        "        img_label = label_encoder(label)\n",
        "\n",
        "        std_img_list.append((std_img, img_label))\n",
        "\n",
        "    return std_img_list"
      ],
      "metadata": {
        "id": "s9dqT_f4pENX"
      },
      "execution_count": 4,
      "outputs": []
    },
    {
      "cell_type": "markdown",
      "source": [
        "Fungsi Histogram"
      ],
      "metadata": {
        "id": "eluQr7DkqFXe"
      }
    },
    {
      "cell_type": "code",
      "source": [
        "def calculate_histogram(image):\n",
        "    hsv_image = cv2.cvtColor(image, cv2.COLOR_BGR2HSV)\n",
        "    hist = cv2.calcHist([hsv_image], [0, 1], None, [16, 16], [0, 180, 0, 256])\n",
        "    hist = cv2.normalize(hist, hist).flatten()\n",
        "    return hist"
      ],
      "metadata": {
        "id": "v6jqeBeiqBUh"
      },
      "execution_count": 5,
      "outputs": []
    },
    {
      "cell_type": "markdown",
      "source": [
        "Fungsi memuat data dan label"
      ],
      "metadata": {
        "id": "NzlJKYM2qkbc"
      }
    },
    {
      "cell_type": "code",
      "source": [
        "def load_data(dataset_path):\n",
        "    X = []\n",
        "    y = []\n",
        "    for label in os.listdir(dataset_path):\n",
        "        label_path = os.path.join(dataset_path, label)\n",
        "        for image_name in os.listdir(label_path):\n",
        "            image_path = os.path.join(label_path, image_name)\n",
        "            image = cv2.imread(image_path)\n",
        "            if image is not None:\n",
        "                hist = calculate_histogram(image)\n",
        "                X.append(hist)\n",
        "                y.append(label)\n",
        "    return np.array(X), np.array(y)"
      ],
      "metadata": {
        "id": "Xc6y__fjrP3q"
      },
      "execution_count": 6,
      "outputs": []
    },
    {
      "cell_type": "markdown",
      "source": [
        "Klasifikasi Menggunakan SVM"
      ],
      "metadata": {
        "id": "64XehDZ0z-C3"
      }
    },
    {
      "cell_type": "code",
      "source": [
        "X_train, y_train = load_data(train_dir)\n",
        "X_test, y_test = load_data(test_dir)\n",
        "\n",
        "# Inisialisasi model SVM\n",
        "model = svm.SVC(kernel='linear')\n",
        "\n",
        "# Melatih model SVM\n",
        "model.fit(X_train, y_train)\n",
        "\n",
        "# Prediksi data test\n",
        "predictions = model.predict(X_test)\n",
        "\n",
        "# Evaluasi model\n",
        "accuracy = accuracy_score(y_test, predictions)\n",
        "report = classification_report(y_test, predictions, target_names=[\"Day\", \"Night\"])\n",
        "\n",
        "# Menampilkan hasil evaluasi\n",
        "print(f\"Accuracy: {accuracy * 100:.2f}%\")\n",
        "print(\"Classification Report:\")\n",
        "print(report)"
      ],
      "metadata": {
        "colab": {
          "base_uri": "https://localhost:8080/"
        },
        "id": "YFoDDjY90BTr",
        "outputId": "f73451f0-22f3-4d26-baec-b67565314c1c"
      },
      "execution_count": 14,
      "outputs": [
        {
          "output_type": "stream",
          "name": "stdout",
          "text": [
            "Accuracy: 98.12%\n",
            "Classification Report:\n",
            "              precision    recall  f1-score   support\n",
            "\n",
            "         Day       1.00      0.96      0.98        80\n",
            "       Night       0.96      1.00      0.98        80\n",
            "\n",
            "    accuracy                           0.98       160\n",
            "   macro avg       0.98      0.98      0.98       160\n",
            "weighted avg       0.98      0.98      0.98       160\n",
            "\n"
          ]
        }
      ]
    }
  ]
}